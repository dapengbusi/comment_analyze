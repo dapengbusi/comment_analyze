{
 "cells": [
  {
   "cell_type": "code",
   "execution_count": null,
   "metadata": {},
   "outputs": [],
   "source": [
    "import numpy as np\n",
    "import pandas as pd\n",
    "import jieba\n",
    "from sklearn.model_selection import train_test_split           #划分训练/测试集\n",
    "from sklearn.feature_extraction.text import CountVectorizer    #抽取特征\n",
    "from sklearn.naive_bayes import MultinomialNB\n",
    "from sklearn.feature_extraction.text import TfidfVectorizer\n",
    "#读取并清洗数据\n",
    "#因为几个文档的编码不大一样，所以兼容了三种编码模式，根据经验，这三种是经常会遇到的\n",
    "def get_txt_data(txt_file):\n",
    "    mostwords=[]\n",
    "    try:\n",
    "        file=open(txt_file,'r',encoding='utf-8')\n",
    "        for line in file.readlines():\n",
    "            curline=line.strip().split(\"\\t\")\n",
    "            mostwords.append(curline)\n",
    "    except:\n",
    "        try:\n",
    "            file=open(txt_file,'r',encoding='gb2312')\n",
    "            for line in file.readlines():\n",
    "                curline=line.strip().split(\"\\t\")\n",
    "                mostwords.append(curline)\n",
    "        except:\n",
    "            try:\n",
    "                file=open(txt_file,'r',encoding='gbk')\n",
    "                for line in file.readlines():\n",
    "                    curline=line.strip().split(\"\\t\")\n",
    "                    mostwords.append(curline)\n",
    "            except:\n",
    "                ''   \n",
    "    return mostwords\n",
    "\n",
    "neg_doc=get_txt_data(r'/Users/zhipeng/lesson/python/project/data/neg.txt')\n",
    "pos_doc=get_txt_data(r'/Users/zhipeng/lesson/python/project/data/pos.txt')\n",
    "\n",
    "def context_cut(sentence):\n",
    "    words_list=[]\n",
    "    #获取停用词\n",
    "    stop=open(r'/Users/zhipeng/lesson/python/project/data/stopwords.txt','r+',encoding='utf-8')\n",
    "    stopwords=stop.read().split('\\n')\n",
    "    cut_words=list(jieba.cut(sentence))\n",
    "    words_str=\"\"\n",
    "    for word in cut_words:\n",
    "        if not(word in stopwords):\n",
    "            words_list.append(word)\n",
    "        words_str=','.join(words_list)\n",
    "    return words_str,words_list \n",
    "\n",
    "#合并两个数据集，并且打上标签，分成测试集和训练集\n",
    "words=[]\n",
    "word_list=[]\n",
    "for i in neg_doc:\n",
    "    cut_words_str,cut_words_list=context_cut(i[0])\n",
    "    word_list.append((cut_words_str,-1))\n",
    "    words.append(cut_words_list)\n",
    "for j in pos_doc:\n",
    "    cut_words_str2,cut_words_list2=context_cut(j[0])\n",
    "    word_list.append((cut_words_str2,1))\n",
    "    words.append(cut_words_list2)\n",
    "#word_list=[('菜品,质量,好,味道,好,就是,百度,的,问题,总是,用,运力,原因,来,解释,我,也,不,懂,这,是,什么,原因,晚,了,三个,小时,呵呵,厉害,吧,反正,订,了,就,退,不了,只能,干,等', -1),...,...]\n",
    "#将word_list中的值和标签分别赋予给x,y\n",
    "x,y=zip(*word_list)\n",
    "x_train,x_test,y_train,y_test=train_test_split(x,y,test_size=0.2,random_state=0)"
   ]
  },
  {
   "cell_type": "code",
   "execution_count": null,
   "metadata": {},
   "outputs": [],
   "source": []
  },
  {
   "cell_type": "code",
   "execution_count": null,
   "metadata": {},
   "outputs": [],
   "source": []
  },
  {
   "cell_type": "code",
   "execution_count": null,
   "metadata": {},
   "outputs": [],
   "source": []
  },
  {
   "cell_type": "code",
   "execution_count": null,
   "metadata": {},
   "outputs": [],
   "source": []
  }
 ],
 "metadata": {
  "kernelspec": {
   "display_name": "Python 3",
   "language": "python",
   "name": "python3"
  },
  "language_info": {
   "codemirror_mode": {
    "name": "ipython",
    "version": 3
   },
   "file_extension": ".py",
   "mimetype": "text/x-python",
   "name": "python",
   "nbconvert_exporter": "python",
   "pygments_lexer": "ipython3",
   "version": "3.8.3"
  }
 },
 "nbformat": 4,
 "nbformat_minor": 4
}
