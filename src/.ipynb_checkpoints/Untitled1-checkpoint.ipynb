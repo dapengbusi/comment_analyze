{
 "cells": [
  {
   "cell_type": "code",
   "execution_count": null,
   "metadata": {},
   "outputs": [],
   "source": [
    "from sklearn.tree import DecisionTreeRegressor\n",
    "tree_reg=DecisionTreeRegressor()\n",
    "\n",
    "#print(vec.transform(x_train))\n",
    "tree_reg.fit(get_df(x_train),y_train)\n",
    "\n",
    "y_test_hat=tree_reg.predict(get_df(x_test))\n",
    "y_train_hat=tree_reg.predict(get_df(x_train))\n",
    "tree_mse1=mean_squared_error(y_test,y_test_hat)\n",
    "tree_mse2=mean_squared_error(y_train,y_train_hat)\n",
    "tree_rmse1=np.sqrt(tree_mse1)\n",
    "tree_rmse2=np.sqrt(tree_mse2)\n",
    "print ('测试集',tree_rmse1)\n",
    "print ('训练集',tree_rmse2)"
   ]
  }
 ],
 "metadata": {
  "kernelspec": {
   "display_name": "Python 3",
   "language": "python",
   "name": "python3"
  },
  "language_info": {
   "codemirror_mode": {
    "name": "ipython",
    "version": 3
   },
   "file_extension": ".py",
   "mimetype": "text/x-python",
   "name": "python",
   "nbconvert_exporter": "python",
   "pygments_lexer": "ipython3",
   "version": "3.8.3"
  }
 },
 "nbformat": 4,
 "nbformat_minor": 4
}
