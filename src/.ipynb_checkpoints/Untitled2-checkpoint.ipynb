{
 "cells": [
  {
   "cell_type": "code",
   "execution_count": 13,
   "metadata": {},
   "outputs": [
    {
     "name": "stdout",
     "output_type": "stream",
     "text": [
      "输出x_train文本向量：\n",
      "[[1.         0.         0.         0.         0.         0.\n",
      "  0.         0.         0.         0.        ]\n",
      " [0.         0.37302199 0.         0.49047908 0.         0.\n",
      "  0.         0.49047908 0.49047908 0.37302199]\n",
      " [0.         0.20967122 0.27569246 0.         0.27569246 0.27569246\n",
      "  0.82707737 0.         0.         0.20967122]]\n",
      "输出x_test文本向量：\n",
      "[[0.         0.         0.         0.         0.         0.70710678\n",
      "  0.70710678 0.         0.         0.        ]\n",
      " [0.         0.         0.         0.         0.         0.\n",
      "  0.         0.         0.         1.        ]\n",
      " [0.         0.         0.         0.         0.         0.\n",
      "  0.         0.         1.         0.        ]]\n"
     ]
    }
   ],
   "source": [
    "from sklearn.feature_extraction.text import CountVectorizer\n",
    "from sklearn.feature_extraction.text import TfidfTransformer\n",
    " \n",
    "x_train = ['TF-IDF 主要 思想 是','算法 一个 重要 特点 可以 脱离 语料库 背景',\n",
    "           '如果 一个 网页 被 很多 其他 网页 链接 说明 网页 重要']\n",
    "x_test=['原始 文本 进行 很多 网页 标记','主要 测试 你好 重要 思想', '语料库 北京 大学 美团 案例']\n",
    " \n",
    "#该类会将文本中的词语转换为词频矩阵，矩阵元素a[i][j] 表示j词在i类文本下的词频\n",
    "vectorizer = CountVectorizer(max_features=10)\n",
    "\n",
    "#该类会统计每个词语的tf-idf权值\n",
    "tf_idf_transformer = TfidfTransformer()\n",
    "#print(vectorizer.fit_transform(x_train))\n",
    "#将文本转为词频矩阵并计算tf-idf\n",
    "tf_idf = tf_idf_transformer.fit_transform(vectorizer.fit_transform(x_train))\n",
    "#print(tf_idf)\n",
    "#将tf-idf矩阵抽取出来，元素a[i][j]表示j词在i类文本中的tf-idf权重\n",
    "x_train_weight = tf_idf.toarray()\n",
    " \n",
    "#对测试集进行tf-idf权重计算\n",
    "\n",
    "tf_idf = tf_idf_transformer.transform(vectorizer.transform(x_train))\n",
    "#print(\"xxxx:\")\n",
    "#print(vectorizer.transform(x_train))\n",
    "x_test_weight = tf_idf.toarray()  # 测试集TF-IDF权重矩阵\n",
    " \n",
    "print('输出x_train文本向量：')\n",
    "print(x_train_weight)\n",
    "print('输出x_test文本向量：')\n",
    "print(x_test_weight)\n"
   ]
  },
  {
   "cell_type": "code",
   "execution_count": null,
   "metadata": {},
   "outputs": [],
   "source": []
  },
  {
   "cell_type": "code",
   "execution_count": null,
   "metadata": {},
   "outputs": [],
   "source": []
  }
 ],
 "metadata": {
  "kernelspec": {
   "display_name": "Python 3",
   "language": "python",
   "name": "python3"
  },
  "language_info": {
   "codemirror_mode": {
    "name": "ipython",
    "version": 3
   },
   "file_extension": ".py",
   "mimetype": "text/x-python",
   "name": "python",
   "nbconvert_exporter": "python",
   "pygments_lexer": "ipython3",
   "version": "3.8.3"
  }
 },
 "nbformat": 4,
 "nbformat_minor": 4
}
